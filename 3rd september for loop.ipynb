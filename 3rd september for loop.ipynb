{
 "cells": [
  {
   "cell_type": "code",
   "execution_count": 2,
   "id": "2c01b32d-a2f1-4b14-baf9-f25c60520e11",
   "metadata": {},
   "outputs": [
    {
     "name": "stdout",
     "output_type": "stream",
     "text": [
      "1\n",
      "2\n",
      "3\n",
      "4\n",
      "5\n",
      "6\n",
      "7\n",
      "8\n",
      "9\n",
      "10\n"
     ]
    }
   ],
   "source": [
    "\n",
    "\n",
    "# # Basic level\n",
    "\n",
    " # 1.Write a Python program to print the numbers from 1 to 10 using a `for` loop.\n",
    "for i in range(1, 11):\n",
    "     print(i)\n",
    "        "
   ]
  },
  {
   "cell_type": "code",
   "execution_count": 3,
   "id": "fe269975-6d77-4dc9-94c6-396c92b3b099",
   "metadata": {},
   "outputs": [
    {
     "name": "stdout",
     "output_type": "stream",
     "text": [
      "tota sum is 1\n",
      "tota sum is 3\n",
      "tota sum is 6\n",
      "tota sum is 10\n",
      "tota sum is 15\n",
      "tota sum is 21\n"
     ]
    }
   ],
   "source": [
    "# 2. Create a program that calculates the sum of all numbers in a list using a `for` loop.\n",
    "\n",
    "x= [1, 2, 3, 4, 5, 6]\n",
    "\n",
    "total_sum = 0\n",
    "\n",
    "for i in x:\n",
    "    total_sum += i\n",
    "\n",
    "    print(\"tota sum is\",total_sum)"
   ]
  },
  {
   "cell_type": "code",
   "execution_count": 4,
   "id": "aa3e1a33-e1f0-4be9-83ac-9627f6a70512",
   "metadata": {},
   "outputs": [
    {
     "name": "stdin",
     "output_type": "stream",
     "text": [
      "Enter a string:  abhay\n"
     ]
    },
    {
     "name": "stdout",
     "output_type": "stream",
     "text": [
      "Reversed string: yahba\n"
     ]
    }
   ],
   "source": [
    "#3. Write a program to print the characters of a string in reverse order using a `for` loop.\n",
    "\n",
    "string = input(\"Enter a string: \")\n",
    "\n",
    "\n",
    "reversed_string = \"\"\n",
    "\n",
    "\n",
    "for char in string:\n",
    "    reversed_string = char + reversed_string\n",
    "\n",
    "\n",
    "print(\"Reversed string:\", reversed_string)\n",
    "\n",
    "\n",
    "\n"
   ]
  },
  {
   "cell_type": "code",
   "execution_count": 5,
   "id": "a8039c78-1923-4ac2-ab04-b267e7463087",
   "metadata": {},
   "outputs": [
    {
     "name": "stdin",
     "output_type": "stream",
     "text": [
      "Enter a number:  12\n"
     ]
    },
    {
     "name": "stdout",
     "output_type": "stream",
     "text": [
      "The factorial of 12 is 479001600\n"
     ]
    }
   ],
   "source": [
    "# 4.Develop a program that finds the factorial of a given number using a `for` loop.\n",
    "\n",
    "num = int(input(\"Enter a number: \"))\n",
    "\n",
    "\n",
    "factorial = 1\n",
    "\n",
    "for i in range(1, num + 1):\n",
    "    factorial *= i\n",
    "\n",
    "\n",
    "print(f\"The factorial of {num} is {factorial}\")\n"
   ]
  },
  {
   "cell_type": "code",
   "execution_count": 6,
   "id": "7c1789bb-c214-40c1-845d-bac913d02f45",
   "metadata": {},
   "outputs": [
    {
     "name": "stdin",
     "output_type": "stream",
     "text": [
      "Enter a number:  12\n"
     ]
    },
    {
     "name": "stdout",
     "output_type": "stream",
     "text": [
      "Multiplication Table for 12:\n",
      "12 x 1 = 12\n",
      "12 x 2 = 24\n",
      "12 x 3 = 36\n",
      "12 x 4 = 48\n",
      "12 x 5 = 60\n",
      "12 x 6 = 72\n",
      "12 x 7 = 84\n",
      "12 x 8 = 96\n",
      "12 x 9 = 108\n",
      "12 x 10 = 120\n"
     ]
    }
   ],
   "source": [
    "# 5. Create a program to print the multiplication table of a given number using a `for` loop.\n",
    "\n",
    "num = int(input(\"Enter a number: \"))\n",
    "\n",
    "\n",
    "print(f\"Multiplication Table for {num}:\")\n",
    "\n",
    "for i in range(1, 11):\n",
    "    product = num * i\n",
    "    print(f\"{num} x {i} = {product}\")\n",
    "    \n",
    "    "
   ]
  },
  {
   "cell_type": "code",
   "execution_count": 7,
   "id": "e75fcc77-0c61-48ba-b75b-b23c21aade8e",
   "metadata": {},
   "outputs": [
    {
     "name": "stdout",
     "output_type": "stream",
     "text": [
      "Number of even numbers: 5\n",
      "Number of odd numbers: 4\n"
     ]
    }
   ],
   "source": [
    "#6. Write a program that counts the number of even and odd numbers in a list using a `for` loop.\n",
    "\n",
    "numbers = [12, 7, 5, 14, 8, 10, 23, 25, 30]\n",
    "\n",
    "\n",
    "even_count = 0\n",
    "odd_count = 0\n",
    "\n",
    "\n",
    "for num in numbers:\n",
    "    if num % 2 == 0:\n",
    "        even_count += 1\n",
    "    else:\n",
    "        odd_count += 1\n",
    "\n",
    "\n",
    "print(\"Number of even numbers:\", even_count)\n",
    "print(\"Number of odd numbers:\", odd_count)"
   ]
  },
  {
   "cell_type": "code",
   "execution_count": 9,
   "id": "8cedd500-a143-4b87-b53d-732c721d445d",
   "metadata": {},
   "outputs": [
    {
     "name": "stdout",
     "output_type": "stream",
     "text": [
      "The square of 1 is 1\n",
      "The square of 2 is 4\n",
      "The square of 3 is 9\n",
      "The square of 4 is 16\n",
      "The square of 5 is 25\n"
     ]
    }
   ],
   "source": [
    "#  7,Develop a program that prints the squares of numbers from 1 to 5 using a `for` loop.\n",
    "\n",
    "for num in range(1, 6):\n",
    "    square = num ** 2\n",
    "    print(f\"The square of {num} is {square}\")\n",
    "\n"
   ]
  },
  {
   "cell_type": "code",
   "execution_count": 10,
   "id": "ed45d181-79fb-438d-b569-5a4a2403aed2",
   "metadata": {},
   "outputs": [
    {
     "name": "stdin",
     "output_type": "stream",
     "text": [
      "Enter a string:  dwefr\n"
     ]
    },
    {
     "name": "stdout",
     "output_type": "stream",
     "text": [
      "The length of the string is: 5\n"
     ]
    }
   ],
   "source": [
    "#8.Create a program to find the length of a string without using the `len()` function.\n",
    "\n",
    "\n",
    "input_string = input(\"Enter a string: \")\n",
    "\n",
    "\n",
    "length = 0\n",
    "\n",
    "for char in input_string:\n",
    "    length += 1\n",
    "\n",
    "\n",
    "print(f\"The length of the string is: {length}\")"
   ]
  },
  {
   "cell_type": "code",
   "execution_count": 11,
   "id": "7c685fad-920d-48f6-b641-754473b3e3fc",
   "metadata": {},
   "outputs": [
    {
     "name": "stdout",
     "output_type": "stream",
     "text": [
      "The average of the numbers is: 30.0\n"
     ]
    }
   ],
   "source": [
    " #9.Write a program that calculates the average of a list of numbers using a `for` loop.\n",
    "\n",
    "numbers = [10, 20, 30, 40, 50]\n",
    "\n",
    "\n",
    "total_sum = 0\n",
    "count = 0\n",
    "\n",
    "\n",
    "for num in numbers:\n",
    "    total_sum += num\n",
    "    count += 1\n",
    "\n",
    "\n",
    "if count != 0:\n",
    "    average = total_sum / count\n",
    "else:\n",
    "    average = 0\n",
    "\n",
    "# Print the average\n",
    "print(\"The average of the numbers is:\", average)"
   ]
  },
  {
   "cell_type": "code",
   "execution_count": 13,
   "id": "f1355478-5bfe-4987-aca5-b87aab324414",
   "metadata": {},
   "outputs": [
    {
     "name": "stdin",
     "output_type": "stream",
     "text": [
      "Enter the number of Fibonacci numbers to generate:  8\n"
     ]
    },
    {
     "name": "stdout",
     "output_type": "stream",
     "text": [
      "The first 8 Fibonacci numbers are:\n",
      "0 1 1 2 3 5 8 13 "
     ]
    }
   ],
   "source": [
    "#10 .Develop a program that prints the first `n` Fibonacci numbers using a `for` loop.\n",
    "\n",
    "n = int(input(\"Enter the number of Fibonacci numbers to generate: \"))\n",
    "\n",
    "# Initialize the first two Fibonacci numbers\n",
    "fibonacci = [0, 1]\n",
    "\n",
    "# Use a for loop to generate the remaining Fibonacci numbers\n",
    "for i in range(2, n):\n",
    "    next_fibonacci = fibonacci[i - 1] + fibonacci[i - 2]\n",
    "    fibonacci.append(next_fibonacci)\n",
    "\n",
    "# Print the first n Fibonacci numbers\n",
    "print(f\"The first {n} Fibonacci numbers are:\")\n",
    "for num in fibonacci:\n",
    "    print(num, end=\" \")"
   ]
  },
  {
   "cell_type": "code",
   "execution_count": 19,
   "id": "7b892b61-2c41-49c4-96c8-2f0d7b80d4b1",
   "metadata": {},
   "outputs": [
    {
     "name": "stdout",
     "output_type": "stream",
     "text": [
      "The list contains duplicates.\n",
      "1\n"
     ]
    }
   ],
   "source": [
    "## Intermediate Level: \n",
    "\n",
    "\n",
    "#11. Write a program to check if a given list contains any duplicates using a `for` loop. \n",
    "\n",
    "\n",
    "my_list = [1, 2, 3, 4, 5, 1]  \n",
    "has_duplicates = []\n",
    "\n",
    "\n",
    "for i in range(len(my_list)):\n",
    "    for j in range(i + 1, len(my_list)):\n",
    "        if my_list[i] == my_list[j]:\n",
    "           \n",
    "            has_duplicates.append(my_list[i])\n",
    "            \n",
    "if has_duplicates:\n",
    "    print(\"The list contains duplicates.\")\n",
    "    for has_duplicate in set(has_duplicates):\n",
    "        print(has_duplicate)\n",
    "       \n",
    "else:\n",
    "    print(\"The list does not contain duplicates.\")"
   ]
  },
  {
   "cell_type": "code",
   "execution_count": 20,
   "id": "e840e2e6-d263-4a5d-8cac-b66022592c17",
   "metadata": {},
   "outputs": [],
   "source": [
    "# 12.Create a program that prints the prime numbers in a given range using a `for` loop.\n",
    "start = int(input(\"Enter the start of the range: \"))\n",
    "end = int(input(\"Enter the end of the range: \"))\n",
    "\n",
    "print(f\"Prime numbers in the range {start} to {end} are:\")\n",
    "\n",
    "\n",
    "for num in range(start, end + 1):\n",
    "    if num > 1:\n",
    "        is_prime = True\n",
    "        for i in range(2, int(num ** 0.5) + 1):\n",
    "            if num % i == 0:\n",
    "                is_prime = False\n",
    "                break\n",
    "        if is_prime:\n",
    "            print(num)\n"
   ]
  },
  {
   "cell_type": "code",
   "execution_count": 1,
   "id": "dfa3cfd1-a179-4af1-a8c6-0d83e517769a",
   "metadata": {},
   "outputs": [
    {
     "name": "stdin",
     "output_type": "stream",
     "text": [
      "Enter a string:  abhay\n"
     ]
    },
    {
     "name": "stdout",
     "output_type": "stream",
     "text": [
      "The number of vowels in the string is: 2\n"
     ]
    }
   ],
   "source": [
    "#13. Develop a program that counts the number of vowels in a string using a `for` loop.\n",
    "\n",
    "# Input a string from the user\n",
    "input_string = input(\"Enter a string: \")\n",
    "\n",
    "# Convert the input string to lowercase to simplify vowel checking\n",
    "input_string = input_string.lower()\n",
    "\n",
    "# Initialize a variable to count the vowels\n",
    "vowel_count = 0\n",
    "\n",
    "\n",
    "vowels = {'a', 'e', 'i', 'o', 'u'}\n",
    "\n",
    "\n",
    "for char in input_string:\n",
    "    if char in vowels:\n",
    "        vowel_count += 1\n",
    "\n",
    "\n",
    "print(f\"The number of vowels in the string is: {vowel_count}\")\n",
    "\n",
    "\n",
    "\n"
   ]
  },
  {
   "cell_type": "code",
   "execution_count": 2,
   "id": "4ed3ca92-8072-4ff2-ae3f-18386f0fd5df",
   "metadata": {},
   "outputs": [
    {
     "name": "stdout",
     "output_type": "stream",
     "text": [
      "The maximum element in the 2D list is: 15\n"
     ]
    }
   ],
   "source": [
    "# 14.Write a program to find the maximum element in a 2D list using a nested `for` loop\n",
    "matrix = [\n",
    "    [5, 12, 7],\n",
    "    [8, 9, 10],\n",
    "    [3, 6, 15]\n",
    "]\n",
    "\n",
    "\n",
    "max_element = matrix[0][0]\n",
    "\n",
    "\n",
    "for row in matrix:\n",
    "    for element in row:\n",
    "        if element > max_element:\n",
    "            max_element = element\n",
    "\n",
    "print(\"The maximum element in the 2D list is:\", max_element)"
   ]
  },
  {
   "cell_type": "code",
   "execution_count": 3,
   "id": "e702f31b-2913-4fe6-a9b3-e6c16e5f371c",
   "metadata": {},
   "outputs": [
    {
     "name": "stdin",
     "output_type": "stream",
     "text": [
      "Enter the element to remove:  5\n"
     ]
    },
    {
     "name": "stdout",
     "output_type": "stream",
     "text": [
      "List after removing all occurrences of 5 : [1, 2, 3, 4, 2, 2]\n"
     ]
    }
   ],
   "source": [
    "# 15.\n",
    "\n",
    "my_list = [1, 2, 3, 4, 2, 5, 2]  \n",
    "element_to_remove = int(input(\"Enter the element to remove: \"))\n",
    "\n",
    "\n",
    "for _ in range(my_list.count(element_to_remove)):\n",
    "    my_list.remove(element_to_remove)\n",
    "\n",
    "\n",
    "print(\"List after removing all occurrences of\", element_to_remove, \":\", my_list)\n"
   ]
  },
  {
   "cell_type": "code",
   "execution_count": 4,
   "id": "5019a91b-518f-4a04-905e-58790b5a0c4a",
   "metadata": {},
   "outputs": [
    {
     "name": "stdout",
     "output_type": "stream",
     "text": [
      "Multiplication table for 1:\n",
      "1 x 1 = 1\n",
      "1 x 2 = 2\n",
      "1 x 3 = 3\n",
      "1 x 4 = 4\n",
      "1 x 5 = 5\n",
      "1 x 6 = 6\n",
      "1 x 7 = 7\n",
      "1 x 8 = 8\n",
      "1 x 9 = 9\n",
      "1 x 10 = 10\n",
      "\n",
      "Multiplication table for 2:\n",
      "2 x 1 = 2\n",
      "2 x 2 = 4\n",
      "2 x 3 = 6\n",
      "2 x 4 = 8\n",
      "2 x 5 = 10\n",
      "2 x 6 = 12\n",
      "2 x 7 = 14\n",
      "2 x 8 = 16\n",
      "2 x 9 = 18\n",
      "2 x 10 = 20\n",
      "\n",
      "Multiplication table for 3:\n",
      "3 x 1 = 3\n",
      "3 x 2 = 6\n",
      "3 x 3 = 9\n",
      "3 x 4 = 12\n",
      "3 x 5 = 15\n",
      "3 x 6 = 18\n",
      "3 x 7 = 21\n",
      "3 x 8 = 24\n",
      "3 x 9 = 27\n",
      "3 x 10 = 30\n",
      "\n",
      "Multiplication table for 4:\n",
      "4 x 1 = 4\n",
      "4 x 2 = 8\n",
      "4 x 3 = 12\n",
      "4 x 4 = 16\n",
      "4 x 5 = 20\n",
      "4 x 6 = 24\n",
      "4 x 7 = 28\n",
      "4 x 8 = 32\n",
      "4 x 9 = 36\n",
      "4 x 10 = 40\n",
      "\n",
      "Multiplication table for 5:\n",
      "5 x 1 = 5\n",
      "5 x 2 = 10\n",
      "5 x 3 = 15\n",
      "5 x 4 = 20\n",
      "5 x 5 = 25\n",
      "5 x 6 = 30\n",
      "5 x 7 = 35\n",
      "5 x 8 = 40\n",
      "5 x 9 = 45\n",
      "5 x 10 = 50\n",
      "\n"
     ]
    }
   ],
   "source": [
    "# 16. Develop a program that generates a multiplication table for numbers from 1 to 5 using a nested `for` loop. \n",
    "\n",
    "# Define the range of numbers for the multiplication table\n",
    "start = 1\n",
    "end = 5\n",
    "\n",
    "# Use nested for loops to generate the multiplication table\n",
    "for i in range(start, end + 1):\n",
    "    print(f\"Multiplication table for {i}:\")\n",
    "\n",
    "    for j in range(1, 11):\n",
    "        result = i * j\n",
    "        print(f\"{i} x {j} = {result}\")\n",
    "\n",
    "    print()  # Add an empty line between tables for clarity\n",
    "\n"
   ]
  },
  {
   "cell_type": "code",
   "execution_count": 5,
   "id": "782443d2-27c4-4fcd-a1c8-a2b4d5df432f",
   "metadata": {},
   "outputs": [
    {
     "name": "stdout",
     "output_type": "stream",
     "text": [
      "Fahrenheit temperatures: [32, 68, 90, 104, 212]\n",
      "Celsius temperatures: [0.0, 20.0, 32.22222222222222, 40.0, 100.0]\n"
     ]
    }
   ],
   "source": [
    "# 17 Write a program that converts a list of Fahrenheit temperatures to Celsius using a `for` loop. \n",
    "\n",
    "\n",
    "fahrenheit_temperatures = [32, 68, 90, 104, 212] \n",
    "\n",
    "\n",
    "celsius_temperatures = []\n",
    "\n",
    "for fahrenheit in fahrenheit_temperatures:\n",
    "    celsius = (fahrenheit - 32) * 5/9\n",
    "    celsius_temperatures.append(celsius)\n",
    "\n",
    "print(\"Fahrenheit temperatures:\", fahrenheit_temperatures)\n",
    "print(\"Celsius temperatures:\", celsius_temperatures)\n"
   ]
  },
  {
   "cell_type": "code",
   "execution_count": 6,
   "id": "b781ecc8-7460-47d0-afc7-d86d8169b416",
   "metadata": {},
   "outputs": [
    {
     "name": "stdout",
     "output_type": "stream",
     "text": [
      "Common elements between the two lists are: [3, 4, 5]\n"
     ]
    }
   ],
   "source": [
    "# 18 Create a program to print the common elements from two lists using a `for` loop.\n",
    "\n",
    "\n",
    "list1 = [1, 2, 3, 4, 5]\n",
    "list2 = [3, 4, 5, 6, 7] \n",
    "\n",
    "\n",
    "common_elements = []\n",
    "\n",
    "\n",
    "for element1 in list1:\n",
    "    for element2 in list2:\n",
    "        if element1 == element2:\n",
    "            common_elements.append(element1)\n",
    "\n",
    "\n",
    "print(\"Common elements between the two lists are:\", common_elements)\n"
   ]
  },
  {
   "cell_type": "code",
   "execution_count": 7,
   "id": "6a136052-e918-43ca-a345-a57e36059fb4",
   "metadata": {},
   "outputs": [
    {
     "name": "stdout",
     "output_type": "stream",
     "text": [
      "*\n",
      "**\n",
      "***\n",
      "****\n",
      "*****\n",
      "******\n",
      "*******\n",
      "********\n",
      "*********\n",
      "**********\n"
     ]
    }
   ],
   "source": [
    "# 19  Develop a program that prints the pattern of right-angled triangles using a `for` loop. Use ‘*’ to draw the  pattern \n",
    "\n",
    "\n",
    "for i in range(1, 11):\n",
    "\n",
    "    for j in range(i):\n",
    "        print('*', end='')\n",
    "  \n",
    "    print()"
   ]
  },
  {
   "cell_type": "code",
   "execution_count": 1,
   "id": "4183cfbc-dc25-4721-8e69-e5e2412c5d91",
   "metadata": {},
   "outputs": [
    {
     "name": "stdin",
     "output_type": "stream",
     "text": [
      "Enter the first number:  43\n",
      "Enter the second number:  45\n"
     ]
    },
    {
     "name": "stdout",
     "output_type": "stream",
     "text": [
      "The greatest common divisor (GCD) of 43 and 45 is: 1\n"
     ]
    }
   ],
   "source": [
    " # 20. Write a program to find the greatest common divisor (GCD) of two numbers using a `for` loop. \n",
    "num1 = int(input(\"Enter the first number: \"))\n",
    "num2 = int(input(\"Enter the second number: \"))\n",
    "\n",
    "\n",
    "gcd = 1\n",
    "\n",
    "\n",
    "for i in range(1, min(num1, num2) + 1):\n",
    "    if num1 % i == 0 and num2 % i == 0:\n",
    "        gcd = i\n",
    "\n",
    "\n",
    "print(f\"The greatest common divisor (GCD) of {num1} and {num2} is: {gcd}\")\n",
    "    \n",
    "    "
   ]
  },
  {
   "cell_type": "code",
   "execution_count": 3,
   "id": "e530711c-90e8-44f7-afdd-dc513f4483ce",
   "metadata": {},
   "outputs": [
    {
     "name": "stdout",
     "output_type": "stream",
     "text": [
      "Sums of digits for each number: [6, 15, 24]\n"
     ]
    }
   ],
   "source": [
    "# Advanced Level: \n",
    "\n",
    "# 21. Create a program that calculates the sum of the digits of numbers in a list using a list comprehension.\n",
    "\n",
    "\n",
    "# Input a list of numbers\n",
    "numbers = [123, 456, 789]\n",
    "\n",
    "# Define a function to calculate the sum of digits for a single number\n",
    "def sum_of_digits(num):\n",
    "    return sum(int(digit) for digit in str(num))\n",
    "\n",
    "# Use list comprehension to calculate the sum of digits for each number\n",
    "sums = [sum_of_digits(num) for num in numbers]\n",
    "\n",
    "# Print the sums of digits\n",
    "print(\"Sums of digits for each number:\", sums)\n"
   ]
  },
  {
   "cell_type": "code",
   "execution_count": null,
   "id": "37277470-f25d-4a08-89b5-c137abdd16af",
   "metadata": {},
   "outputs": [],
   "source": [
    "# 22.Create a program that generates a list of all palindromic numbers up to a specified limit using a list  comprehension. \n",
    "\n",
    "limit = int(input(\"Enter the upper limit: \"))\n",
    "\n",
    "\n",
    "def is_palindromic(num):\n",
    "    return str(num) == str(num)[::-1]\n",
    "\n",
    "\n",
    "palindromic_numbers = [num for num in range(1, limit + 1) if is_palindromic(num)]\n",
    "\n"
   ]
  },
  {
   "cell_type": "code",
   "execution_count": null,
   "id": "817a824d-5069-422c-b5fb-2de1ed6b02a6",
   "metadata": {},
   "outputs": [],
   "source": [
    "#  23. Develop a program that extracts unique elements from a list and stores them in a new list using a list  comprehension. \n",
    "\n",
    "\n",
    "original_list = [1, 2, 2, 3, 4, 4, 5, 5, 5]\n",
    "\n",
    "\n",
    "unique_list = []\n",
    "[unique_list.append(x) for x in original_list if x not in unique_list]\n",
    "\n",
    "print(\"Unique elements in the original list:\", unique_list)\n"
   ]
  },
  {
   "cell_type": "code",
   "execution_count": null,
   "id": "dbd92373-a7b2-417c-a3e3-021aaa37647e",
   "metadata": {},
   "outputs": [],
   "source": [
    "# 24. Create a program that generates a list of all palindromic numbers up to a specified limit using a list  comprehension. \n",
    "\n",
    "\n",
    "limit = int(input(\"Enter the upper limit: \"))\n",
    "\n",
    "\n",
    "palindromic_numbers = [num for num in range(1, limit + 1) if str(num) == str(num)[::-1]]\n",
    "\n",
    "\n",
    "print(\"Palindromic numbers up to the limit:\", palindromic_numbers)"
   ]
  },
  {
   "cell_type": "code",
   "execution_count": null,
   "id": "511662bc-93c5-4900-bf8a-91e1a4460a91",
   "metadata": {},
   "outputs": [],
   "source": [
    "# 25. Write a program to flatten a nested list using list comprehension. \n",
    "\n",
    "nested_list = [[1, 2, 3], [4, 5], [6, 7, 8]]\n",
    "\n",
    "flattened_list = [item for sublist in nested_list for item in sublist]\n",
    "\n",
    "print(\"Flattened list:\", flattened_list)"
   ]
  },
  {
   "cell_type": "code",
   "execution_count": null,
   "id": "c12d6d66-c89d-4852-b2ce-894785e8be4f",
   "metadata": {},
   "outputs": [],
   "source": [
    "# 26. Develop a program that computes the sum of even and odd numbers in a list separately using list  comprehension. \n",
    "\n",
    "\n",
    "numbers = [1, 2, 3, 4, 5, 6, 7, 8, 9]\n",
    "\n",
    "even_sum = sum([num for num in numbers if num % 2 == 0])\n",
    "odd_sum = sum([num for num in numbers if num % 2 != 0])\n",
    "\n",
    "print(\"Sum of even numbers:\", even_sum)\n",
    "print(\"Sum of odd numbers:\", odd_sum)"
   ]
  },
  {
   "cell_type": "code",
   "execution_count": null,
   "id": "35c5dd73-114a-48b5-9a0b-f5df3f25c94f",
   "metadata": {},
   "outputs": [],
   "source": [
    "# 27.Create a program that generates a list of squares of odd numbers between 1 and 10 using list  comprehension. \n",
    "\n",
    "\n",
    "squares_of_odd_numbers = [num ** 2 for num in range(1, 11) if num % 2 != 0]\n",
    "\n",
    "print(\"Squares of odd numbers between 1 and 10:\", squares_of_odd_numbers)"
   ]
  },
  {
   "cell_type": "code",
   "execution_count": null,
   "id": "1117dabe-7033-4949-9efb-3571c3bf6a1f",
   "metadata": {},
   "outputs": [],
   "source": [
    "# 28. Write a program that combines two lists into a dictionary using list comprehension.\n",
    "\n",
    "\n",
    "keys = ['a', 'b', 'c']\n",
    "values = [1, 2, 3]\n",
    "\n",
    "combined_dict = {key: value for key, value in zip(keys, values)}\n",
    "\n",
    "print(\"Combined dictionary:\", combined_dict)"
   ]
  },
  {
   "cell_type": "code",
   "execution_count": null,
   "id": "7b97f1b3-db4d-4a07-829f-3a8c2191b327",
   "metadata": {},
   "outputs": [],
   "source": [
    "# 29. Develop a program that extracts the vowels from a string and stores them in a list using list comprehension\n",
    "\n",
    "\n",
    "input_string = input(\"Enter a string: \")\n",
    "\n",
    "\n",
    "vowels = [char for char in input_string if char.lower() in 'aeiou']\n",
    "\n",
    "\n",
    "print(\"Vowels in the string:\", vowels)"
   ]
  },
  {
   "cell_type": "code",
   "execution_count": null,
   "id": "05595dd2-dbb6-4829-8fc0-0deca0a99660",
   "metadata": {},
   "outputs": [],
   "source": [
    "# 30 Create a program that removes all non-numeric characters from a list of strings using list comprehension.\n",
    "\n",
    "string_list = [\"abc123\", \"45xyz\", \"789\", \"hello123world\"]\n",
    "\n",
    "numeric_strings = [''.join(char for char in string if char.isdigit()) for string in string_list]\n",
    "\n",
    "print(\"Numeric strings:\", numeric_strings)"
   ]
  },
  {
   "cell_type": "code",
   "execution_count": null,
   "id": "724c1774-2406-4f83-8c37-40a0bb4a2db8",
   "metadata": {},
   "outputs": [],
   "source": [
    "# 31. Write a program to generate a list of prime numbers using the Sieve of Eratosthenes algorithm and list  comprehension.\n",
    "\n",
    "upper_limit = int(input(\"Enter an upper limit: \"))\n",
    "\n",
    "sieve = [True] * (upper_limit + 1)\n",
    "sieve[0] = sieve[1] = False\n",
    "\n",
    "for current_num in range(2, int(upper_limit**0.5) + 1):\n",
    "    if sieve[current_num]:\n",
    "        for multiple in range(current_num * current_num, upper_limit + 1, current_num):\n",
    "            sieve[multiple] = False\n",
    "\n",
    "prime_numbers = [num for num, is_prime in enumerate(sieve) if is_prime]\n",
    "\n",
    "print(\"Prime numbers up to\", upper_limit, \"are:\", prime_numbers)\n"
   ]
  },
  {
   "cell_type": "code",
   "execution_count": null,
   "id": "34ec31cd-b7c8-42bd-8002-b2f3802e3f9a",
   "metadata": {},
   "outputs": [],
   "source": [
    "# 32. Create a program that generates a list of all Pythagorean triplets up to a specified limit using list  comprehension.\n",
    "\n",
    "limit = int(input(\"Enter an upper limit: \"))\n",
    "\n",
    "pythagorean_triplets = [(a, b, c) for a in range(1, limit + 1)\n",
    "                                      for b in range(a, limit + 1)\n",
    "                                      for c in range(b, limit + 1)\n",
    "                                      if a**2 + b**2 == c**2]\n",
    "\n",
    "\n",
    "print(\"Pythagorean triplets up to\", limit, \"are:\", pythagorean_triplets)"
   ]
  },
  {
   "cell_type": "code",
   "execution_count": null,
   "id": "65bc3de4-0c89-461c-bcb5-e57f4259cf90",
   "metadata": {},
   "outputs": [],
   "source": [
    "# 33. Develop a program that generates a list of all possible combinations of two lists using list comprehension. \n",
    "\n",
    "list1 = [1, 2, 3]\n",
    "list2 = ['a', 'b']\n",
    "\n",
    "\n",
    "combinations = [(x, y) for x in list1 for y in list2]\n",
    "\n",
    "\n",
    "print(\"All possible combinations of lists:\")\n",
    "for combination in combinations:\n",
    "    print(combination)"
   ]
  },
  {
   "cell_type": "code",
   "execution_count": null,
   "id": "5866154f-17e1-4fdc-9035-74093479bc53",
   "metadata": {},
   "outputs": [],
   "source": []
  }
 ],
 "metadata": {
  "kernelspec": {
   "display_name": "Python 3 (ipykernel)",
   "language": "python",
   "name": "python3"
  },
  "language_info": {
   "codemirror_mode": {
    "name": "ipython",
    "version": 3
   },
   "file_extension": ".py",
   "mimetype": "text/x-python",
   "name": "python",
   "nbconvert_exporter": "python",
   "pygments_lexer": "ipython3",
   "version": "3.10.8"
  }
 },
 "nbformat": 4,
 "nbformat_minor": 5
}
